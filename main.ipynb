{
 "cells": [
  {
   "cell_type": "code",
   "execution_count": 1,
   "metadata": {
    "id": "KkOSWnkOUdWg"
   },
   "outputs": [],
   "source": [
    "import datetime as dt\n",
    "from datetime import date\n",
    "import pandas as pd\n",
    "import pandas_datareader.data as web\n",
    "import numpy as np\n",
    "from sklearn.linear_model import LinearRegression\n",
    "from sklearn.model_selection import train_test_split\n",
    "from sklearn.ensemble import RandomForestRegressor\n",
    "import matplotlib.pyplot as plt\n",
    "from sklearn import preprocessing"
   ]
  },
  {
   "cell_type": "code",
   "execution_count": 1,
   "metadata": {
    "colab": {
     "base_uri": "https://localhost:8080/",
     "height": 472
    },
    "id": "bBxvQzNhp3W4",
    "outputId": "ab19be4e-0f3d-46c2-86bf-d24f730063d2"
   },
   "outputs": [],
   "source": [
    "#Getting the historical data from yahoo finance\n",
    "today = date.today() \n",
    "print(today)\n",
    "tdy = (today.strftime('%Y,%m,%d')).split(',')\n",
    "print(tdy)\n",
    "start = dt.datetime(1972,6,1)\n",
    "end = dt.datetime(int(tdy[0]), int(tdy[1]), int(tdy[2]))\n",
    "\n",
    "df = web.DataReader('SBIN.NS', 'yahoo', start , end)\n",
    "print(df)"
   ]
  },
  {
   "cell_type": "code",
   "execution_count": null,
   "metadata": {
    "id": "XBbqya6z78RW"
   },
   "outputs": [],
   "source": [
    "l = list(df.index)"
   ]
  },
  {
   "cell_type": "code",
   "execution_count": null,
   "metadata": {
    "colab": {
     "base_uri": "https://localhost:8080/",
     "height": 237
    },
    "id": "l80EBCxZ78Oc",
    "outputId": "9b3661cf-8485-4f9d-f423-e96e2f6df153"
   },
   "outputs": [],
   "source": [
    "df = pd.DataFrame(df,columns=df.columns)\n",
    "df.head()"
   ]
  },
  {
   "cell_type": "code",
   "execution_count": null,
   "metadata": {
    "colab": {
     "base_uri": "https://localhost:8080/",
     "height": 435
    },
    "id": "Tvij2azk78Ls",
    "outputId": "687f4877-0d9b-4c18-e686-025dd595682e"
   },
   "outputs": [],
   "source": [
    "for i in range(1,30):\n",
    "  predict_out = i\n",
    "  df['Adj Close' + str(i)] = df[['Adj Close']].shift(-predict_out)\n"
   ]
  },
  {
   "cell_type": "code",
   "execution_count": null,
   "metadata": {
    "colab": {
     "base_uri": "https://localhost:8080/",
     "height": 710
    },
    "id": "Zbhlh1Yl78It",
    "outputId": "321a4cbf-bf5f-4d05-a0c2-3aa3911c5fb9",
    "scrolled": true
   },
   "outputs": [],
   "source": [
    "predict_out = 30\n",
    "df['prediction']=df[['Adj Close']].shift(-predict_out)\n"
   ]
  },
  {
   "cell_type": "code",
   "execution_count": null,
   "metadata": {
    "colab": {
     "base_uri": "https://localhost:8080/"
    },
    "id": "1HVgT2hH78GH",
    "outputId": "d7770418-bf7f-4a8e-f8c1-216ee6d781fe"
   },
   "outputs": [],
   "source": [
    "x = np.array(df.drop(['prediction'],1))\n",
    "x = x[:-predict_out]\n",
    "print(x)"
   ]
  },
  {
   "cell_type": "code",
   "execution_count": null,
   "metadata": {
    "id": "H7qNyWY078DG"
   },
   "outputs": [],
   "source": [
    "dfs = preprocessing.scale(x)"
   ]
  },
  {
   "cell_type": "code",
   "execution_count": null,
   "metadata": {
    "colab": {
     "base_uri": "https://localhost:8080/"
    },
    "id": "3TRih4hz77_9",
    "outputId": "929cfb8d-02c8-4117-fbce-f7ee80920141"
   },
   "outputs": [],
   "source": [
    "x= dfs\n",
    "x"
   ]
  },
  {
   "cell_type": "code",
   "execution_count": null,
   "metadata": {
    "colab": {
     "base_uri": "https://localhost:8080/"
    },
    "id": "Ii3GTXMPBfpI",
    "outputId": "d6e671b8-f575-4060-fa0e-6ac6fa4db2da"
   },
   "outputs": [],
   "source": [
    "y = np.array(df['prediction'])\n",
    "y = y[:-predict_out]\n",
    "print(y)"
   ]
  },
  {
   "cell_type": "code",
   "execution_count": null,
   "metadata": {
    "id": "GVy1v-_PBflr"
   },
   "outputs": [],
   "source": [
    "x_train, x_temp, y_train, y_temp = train_test_split(x, y, test_size=0.2, shuffle=False)"
   ]
  },
  {
   "cell_type": "code",
   "execution_count": null,
   "metadata": {
    "id": "z_1BldNFBfjD"
   },
   "outputs": [],
   "source": [
    "x_test, x_predict, y_test, y_predict = train_test_split(x_temp, y_temp, test_size=0.5, shuffle=False)"
   ]
  },
  {
   "cell_type": "code",
   "execution_count": null,
   "metadata": {
    "id": "gWemrC0UBerf"
   },
   "outputs": [],
   "source": [
    "lr = LinearRegression()"
   ]
  },
  {
   "cell_type": "code",
   "execution_count": null,
   "metadata": {
    "colab": {
     "base_uri": "https://localhost:8080/"
    },
    "id": "8ixbottIBeeJ",
    "outputId": "38933584-a629-4cca-d7af-029cc1cb4dc7"
   },
   "outputs": [],
   "source": [
    "lr.fit(x_train, y_train)"
   ]
  },
  {
   "cell_type": "code",
   "execution_count": null,
   "metadata": {
    "colab": {
     "base_uri": "https://localhost:8080/"
    },
    "id": "QiXh-tP9776M",
    "outputId": "bd6e1a62-b71e-46b3-96eb-bf05d4e8e1b0"
   },
   "outputs": [],
   "source": [
    "lr_confidence = lr.score (x_test, y_test) \n",
    "print(\"lr confidence: \", lr_confidence)"
   ]
  },
  {
   "cell_type": "code",
   "execution_count": null,
   "metadata": {},
   "outputs": [],
   "source": [
    "rf = RandomForestRegressor(n_estimators=20,random_state=0)\n",
    "rf.fit(x_train,y_train)"
   ]
  },
  {
   "cell_type": "code",
   "execution_count": null,
   "metadata": {},
   "outputs": [],
   "source": [
    "\n",
    "rf_confidence = rf.score (x_test, y_test) \n",
    "print(\"rf confidence: \", rf_confidence)"
   ]
  },
  {
   "cell_type": "code",
   "execution_count": null,
   "metadata": {
    "id": "qK4DTXTJFoae"
   },
   "outputs": [],
   "source": [
    "lr_prediction = lr.predict(x_predict)"
   ]
  },
  {
   "cell_type": "code",
   "execution_count": null,
   "metadata": {},
   "outputs": [],
   "source": [
    "rf_prediction = rf.predict(x_predict)"
   ]
  },
  {
   "cell_type": "code",
   "execution_count": null,
   "metadata": {
    "colab": {
     "base_uri": "https://localhost:8080/"
    },
    "id": "ByC-oM-N77wx",
    "outputId": "ce2c906c-a1e8-4ad7-8795-b62a37a54b96"
   },
   "outputs": [],
   "source": [
    "dateslice = y_predict.shape[0]\n",
    "print(y_predict.shape)"
   ]
  },
  {
   "cell_type": "code",
   "execution_count": null,
   "metadata": {
    "colab": {
     "base_uri": "https://localhost:8080/"
    },
    "id": "UxP5LKck77Rw",
    "outputId": "62cbcf78-4f98-49fb-c442-f1e228f784a7"
   },
   "outputs": [],
   "source": [
    "y_predictdf = pd.DataFrame(y_predict)\n",
    "lr_predictiondf = pd.DataFrame(lr_prediction)\n",
    "print(y_predictdf)"
   ]
  },
  {
   "cell_type": "code",
   "execution_count": null,
   "metadata": {},
   "outputs": [],
   "source": [
    "y_predictdf = pd.DataFrame(y_predict)\n",
    "rf_predictiondf = pd.DataFrame(rf_prediction)\n",
    "print(y_predictdf)"
   ]
  },
  {
   "cell_type": "code",
   "execution_count": null,
   "metadata": {
    "colab": {
     "base_uri": "https://localhost:8080/"
    },
    "id": "Fwwz0zIOF-5v",
    "outputId": "48620107-149f-4fc5-db0d-7f3f9448fb52"
   },
   "outputs": [],
   "source": [
    "l = l[-dateslice:]\n",
    "print(l)\n",
    "dfdate = pd.DataFrame(l)\n",
    "print(dfdate)\n",
    "dfdate"
   ]
  },
  {
   "cell_type": "code",
   "execution_count": null,
   "metadata": {
    "id": "yFJHRoHvF-q-"
   },
   "outputs": [],
   "source": [
    "fig = plt.figure(figsize=(15,6))\n",
    "ax1=fig.add_axes([0, 0, 1, 1])\n",
    "ax1.set_title('Linear Regression Model')\n",
    "ax1.plot(dfdate.to_numpy(),\n",
    "         y_predictdf.to_numpy(),\n",
    "         color='green', label='orignial trends')\n",
    "ax1.plot(dfdate.to_numpy(),\n",
    "         lr_predictiondf.to_numpy(),\n",
    "         color='red', label='predicted trends')\n",
    "ax1.set_xlabel('Date') \n",
    "ax1.set_ylabel('Adj Close') \n",
    "ax1.legend()\n",
    "plt.show()"
   ]
  },
  {
   "cell_type": "code",
   "execution_count": null,
   "metadata": {
    "id": "oBbKQ_IEF-nj",
    "scrolled": true
   },
   "outputs": [],
   "source": [
    "fig = plt.figure(figsize=(20,6))\n",
    "ax2=fig.add_axes([0, 0, 1, 1])\n",
    "ax2.set_title('Random Forest Model')\n",
    "ax2.plot(dfdate.to_numpy(),\n",
    "         y_predictdf.to_numpy(),\n",
    "         color='green', label='orignial trends')\n",
    "ax2.plot(dfdate.to_numpy(),\n",
    "         rf_predictiondf.to_numpy(),\n",
    "         color=\"red\", label='predicted trends')\n",
    "ax2.set_xlabel(\"Date\") \n",
    "ax2.set_ylabel('Adj Close') \n",
    "ax2.legend()\n",
    "plt.show()"
   ]
  },
  {
   "cell_type": "code",
   "execution_count": null,
   "metadata": {
    "scrolled": true
   },
   "outputs": [],
   "source": [
    "Np=np.array(df)\n",
    "n= 30\n",
    "forcast=dfs[-n:]\n",
    "\n",
    "output= lr.predict(forcast)\n",
    "\n",
    "x_plot=[dt.datetime.now() + dt.timedelta(days=i) for i in range(30)]\n",
    "y_plot=output"
   ]
  },
  {
   "cell_type": "code",
   "execution_count": null,
   "metadata": {
    "id": "K3E_olQgF-iA"
   },
   "outputs": [],
   "source": [
    "fig = plt.figure(figsize=(12,5))\n",
    "ax3=fig.add_axes([0, 0, 1, 1])\n",
    "ax3.set_title('30 days prediction')\n",
    "ax3.plot(x_plot,y_plot,label='predictd trends')\n",
    "ax3.set_xlabel(\"Date\") \n",
    "ax3.set_ylabel('Adj Close') \n",
    "ax3.legend()\n",
    "plt.show()"
   ]
  },
  {
   "cell_type": "code",
   "execution_count": null,
   "metadata": {},
   "outputs": [],
   "source": []
  }
 ],
 "metadata": {
  "colab": {
   "name": "Demo linear prediction.ipynb",
   "provenance": []
  },
  "kernelspec": {
   "display_name": "Python 3 (ipykernel)",
   "language": "python",
   "name": "python3"
  },
  "language_info": {
   "codemirror_mode": {
    "name": "ipython",
    "version": 3
   },
   "file_extension": ".py",
   "mimetype": "text/x-python",
   "name": "python",
   "nbconvert_exporter": "python",
   "pygments_lexer": "ipython3",
   "version": "3.9.12"
  }
 },
 "nbformat": 4,
 "nbformat_minor": 1
}
